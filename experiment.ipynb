{
 "cells": [
  {
   "cell_type": "code",
   "execution_count": 13,
   "id": "049dd56d-1d9c-4d2c-b85b-c945f3685e92",
   "metadata": {},
   "outputs": [],
   "source": [
    "from tqdm import tqdm\n",
    "tqdm.pandas()\n",
    "\n",
    "import pandas as pd\n",
    "import numpy as np"
   ]
  },
  {
   "cell_type": "code",
   "execution_count": 2,
   "id": "5937ea2c-f6d1-4e22-a2eb-c4fff3b897ee",
   "metadata": {},
   "outputs": [],
   "source": [
    "import cohere\n",
    "import uuid\n",
    "from typing import List, Dict"
   ]
  },
  {
   "cell_type": "code",
   "execution_count": 3,
   "id": "60aa71de-0f4f-4aa6-a603-3c3b9db804a4",
   "metadata": {},
   "outputs": [],
   "source": []
  },
  {
   "cell_type": "code",
   "execution_count": 11,
   "id": "0b1fe6d3",
   "metadata": {},
   "outputs": [],
   "source": [
    "co = cohere.Client(api_key=\"e7FTxIVWjp0NEHTvIg34DYK89kE62P5mITf0FNqw\")"
   ]
  },
  {
   "cell_type": "code",
   "execution_count": 19,
   "id": "d5a3c790-80fb-4c1d-86a3-7b0744fc1ba3",
   "metadata": {},
   "outputs": [],
   "source": [
    "# from unstructured.partition.html import partition_html\n",
    "# from unstructured.chunking.title import chunk_by_title\n",
    "\n",
    "# def load_and_chunk(row):\n",
    "#     \"\"\"\n",
    "#     Loads the text from the sources and chunks the HTML content.\n",
    "#     \"\"\"\n",
    "#     try:\n",
    "#         elements = partition_html(url=row[\"link\"])\n",
    "#         chunks = chunk_by_title(elements, max_characters=2000)\n",
    "#         return [str(chunk) for chunk in chunks]\n",
    "#     except:\n",
    "#         print(row[\"link\"])\n",
    "#         return []"
   ]
  },
  {
   "cell_type": "code",
   "execution_count": null,
   "id": "decc9bad",
   "metadata": {},
   "outputs": [],
   "source": [
    "df = pd.read_json(\"/Users/shubham.chandel/Documents/github/links/client/public/links.jsonl\", lines=True)"
   ]
  },
  {
   "cell_type": "code",
   "execution_count": 14,
   "id": "e6e4c381",
   "metadata": {},
   "outputs": [],
   "source": [
    "# df['prompt'] = df.apply(lambda x: f\"Title: {x.subject}\\nLink: {x.link}\\n\" + \"\\n\".join(x.docs[:20]), axis=1)\n",
    "df['prompt'] = df.apply(lambda x: f\"Title: {x.subject}\\nLink: {x.link}\", axis=1)\n",
    "df['embeddings'] = co.embed(texts=list(df.prompt.values), model=\"embed-english-v3.0\", input_type=\"search_document\").embeddings\n"
   ]
  },
  {
   "cell_type": "code",
   "execution_count": 24,
   "id": "4ad8aaf1",
   "metadata": {},
   "outputs": [],
   "source": [
    "df.to_pickle(\"df.embedding\")"
   ]
  },
  {
   "cell_type": "code",
   "execution_count": null,
   "id": "5c3e3f14",
   "metadata": {},
   "outputs": [],
   "source": []
  },
  {
   "cell_type": "code",
   "execution_count": null,
   "id": "2a779aec",
   "metadata": {},
   "outputs": [],
   "source": []
  },
  {
   "cell_type": "code",
   "execution_count": 29,
   "id": "7c81256a",
   "metadata": {},
   "outputs": [
    {
     "data": {
      "text/plain": [
       "(858, 5)"
      ]
     },
     "execution_count": 29,
     "metadata": {},
     "output_type": "execute_result"
    }
   ],
   "source": [
    "df = pd.read_pickle(\"df.embedding\")\n",
    "df.shape"
   ]
  },
  {
   "cell_type": "code",
   "execution_count": null,
   "id": "8666d24f",
   "metadata": {},
   "outputs": [],
   "source": []
  },
  {
   "cell_type": "code",
   "execution_count": 33,
   "id": "15ce95c5",
   "metadata": {},
   "outputs": [
    {
     "data": {
      "text/plain": [
       "858"
      ]
     },
     "execution_count": 33,
     "metadata": {},
     "output_type": "execute_result"
    }
   ],
   "source": [
    "import requests\n",
    "\n",
    "term = \"jax learn\"\n",
    "url = \"https://sksq96--search-app-searchapp-search-dev.modal.run\"\n",
    "params = {\"term\": term}\n",
    "\n",
    "response = requests.get(url, params=params)\n",
    "response.raise_for_status()  # Raise an exception for bad status codes\n",
    "len(response.json())"
   ]
  },
  {
   "cell_type": "code",
   "execution_count": null,
   "id": "96ef4593",
   "metadata": {},
   "outputs": [],
   "source": []
  },
  {
   "cell_type": "code",
   "execution_count": null,
   "id": "ac4a39dd",
   "metadata": {},
   "outputs": [],
   "source": []
  },
  {
   "cell_type": "code",
   "execution_count": null,
   "id": "7ba49563-ac24-4c33-a967-8e28a1389e29",
   "metadata": {},
   "outputs": [],
   "source": []
  },
  {
   "cell_type": "code",
   "execution_count": null,
   "id": "13b70ade-ff3e-4511-a070-b993f3333ee2",
   "metadata": {},
   "outputs": [],
   "source": []
  },
  {
   "cell_type": "code",
   "execution_count": null,
   "id": "87643763-6932-4948-8b57-ae265fa332d2",
   "metadata": {},
   "outputs": [],
   "source": []
  },
  {
   "cell_type": "code",
   "execution_count": null,
   "id": "cc83f919-3450-4066-b701-96b60e888403",
   "metadata": {},
   "outputs": [],
   "source": []
  }
 ],
 "metadata": {
  "kernelspec": {
   "display_name": "Python 3 (ipykernel)",
   "language": "python",
   "name": "python3"
  },
  "language_info": {
   "codemirror_mode": {
    "name": "ipython",
    "version": 3
   },
   "file_extension": ".py",
   "mimetype": "text/x-python",
   "name": "python",
   "nbconvert_exporter": "python",
   "pygments_lexer": "ipython3",
   "version": "3.12.2"
  }
 },
 "nbformat": 4,
 "nbformat_minor": 5
}
