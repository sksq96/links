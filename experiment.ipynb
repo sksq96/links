{
 "cells": [
  {
   "cell_type": "code",
   "execution_count": 13,
   "id": "049dd56d-1d9c-4d2c-b85b-c945f3685e92",
   "metadata": {},
   "outputs": [],
   "source": [
    "from tqdm import tqdm\n",
    "tqdm.pandas()\n",
    "\n",
    "import pandas as pd\n",
    "import numpy as np"
   ]
  },
  {
   "cell_type": "code",
   "execution_count": 2,
   "id": "46bc90b8",
   "metadata": {},
   "outputs": [],
   "source": [
    "import os, json\n",
    "import pickle\n",
    "import base64\n",
    "from google.auth.transport.requests import Request\n",
    "from google_auth_oauthlib.flow import InstalledAppFlow\n",
    "from googleapiclient.discovery import build\n",
    "\n",
    "# If modifying these scopes, delete the file token.pickle.\n",
    "SCOPES = ['https://www.googleapis.com/auth/gmail.readonly']\n"
   ]
  },
  {
   "cell_type": "code",
   "execution_count": 2,
   "id": "5937ea2c-f6d1-4e22-a2eb-c4fff3b897ee",
   "metadata": {},
   "outputs": [],
   "source": [
    "import cohere\n",
    "import uuid\n",
    "from typing import List, Dict"
   ]
  },
  {
   "cell_type": "code",
   "execution_count": 3,
   "id": "5cdfc569",
   "metadata": {},
   "outputs": [],
   "source": [
    "def get_credentials():\n",
    "    creds = None\n",
    "    if os.path.exists('token.pickle'):\n",
    "        with open('token.pickle', 'rb') as token:\n",
    "            creds = pickle.load(token)\n",
    "    if not creds or not creds.valid:\n",
    "        if creds and creds.expired and creds.refresh_token:\n",
    "            creds.refresh(Request())\n",
    "        else:\n",
    "            flow = InstalledAppFlow.from_client_secrets_file('credentials.json', SCOPES)\n",
    "            creds = flow.run_local_server(port=0)\n",
    "        with open('token.pickle', 'wb') as token:\n",
    "            pickle.dump(creds, token)\n",
    "    return creds\n"
   ]
  },
  {
   "cell_type": "code",
   "execution_count": 4,
   "id": "1e1ecfe6",
   "metadata": {},
   "outputs": [
    {
     "name": "stdout",
     "output_type": "stream",
     "text": [
      "Please visit this URL to authorize this application: https://accounts.google.com/o/oauth2/auth?response_type=code&client_id=157082210581-s4tar0624afsvf9cr3g61mm13lt01l80.apps.googleusercontent.com&redirect_uri=http%3A%2F%2Flocalhost%3A53258%2F&scope=https%3A%2F%2Fwww.googleapis.com%2Fauth%2Fgmail.readonly&state=yDGo9WCyn4lBNzjYL8SeSxENhhB0ll&access_type=offline\n"
     ]
    },
    {
     "data": {
      "text/plain": [
       "<google.oauth2.credentials.Credentials at 0x108f8a5a0>"
      ]
     },
     "execution_count": 4,
     "metadata": {},
     "output_type": "execute_result"
    }
   ],
   "source": [
    "get_credentials()"
   ]
  },
  {
   "cell_type": "code",
   "execution_count": 5,
   "id": "0fc2e5a7",
   "metadata": {},
   "outputs": [],
   "source": [
    "def get_emails(service, labels):\n",
    "    emails = []\n",
    "    for label in labels:\n",
    "        results = service.users().messages().list(userId='me', labelIds=[label], maxResults=500).execute()\n",
    "        if 'messages' in results:\n",
    "            emails.extend(results['messages'])\n",
    "        while 'nextPageToken' in results:\n",
    "            page_token = results['nextPageToken']\n",
    "            results = service.users().messages().list(userId='me', labelIds=[label], pageToken=page_token, maxResults=500).execute()\n",
    "            if 'messages' in results:\n",
    "                emails.extend(results['messages'])\n",
    "    return emails\n"
   ]
  },
  {
   "cell_type": "code",
   "execution_count": 7,
   "id": "76ca6b39",
   "metadata": {},
   "outputs": [],
   "source": [
    "creds = get_credentials()\n",
    "service = build('gmail', 'v1', credentials=creds)\n",
    "\n",
    "labels = ['INBOX']  # Add more labels if needed\n",
    "emails = get_emails(service, labels)\n"
   ]
  },
  {
   "cell_type": "code",
   "execution_count": 10,
   "id": "1568b0d3",
   "metadata": {},
   "outputs": [
    {
     "name": "stdout",
     "output_type": "stream",
     "text": [
      "[2410.02536] Intelligence at the Edge of Chaos\n"
     ]
    }
   ],
   "source": [
    "links = set()\n",
    "for email in emails:\n",
    "    msg = service.users().messages().get(userId='me', id=email['id']).execute()\n",
    "    payload = msg['payload']\n",
    "    headers = payload['headers']\n",
    "    for header in headers:\n",
    "        if header['name'] == 'Subject':\n",
    "            subject = header['value']\n",
    "        if header['name'] == 'From':\n",
    "            sender = header['value']\n",
    "        if header['name'] == 'Date':\n",
    "            date = header['value']\n",
    "    \n",
    "    print(subject)\n",
    "    # print(payload)\n",
    "    try:        \n",
    "        if 'parts' in payload:\n",
    "            for part in payload['parts']:\n",
    "                if part['mimeType'] == 'text/plain':\n",
    "                    message_body = base64.urlsafe_b64decode(part['body']['data']).decode('utf-8')\n",
    "                    break\n",
    "        else:\n",
    "            message_body = base64.urlsafe_b64decode(payload['body']['data']).decode('utf-8')\n",
    "    except:\n",
    "        message_body = \"\"\n",
    "        print(f\"SKIPPING: {subject}\")\n",
    "\n",
    "    break\n"
   ]
  },
  {
   "cell_type": "code",
   "execution_count": 19,
   "id": "dbc39f5a",
   "metadata": {},
   "outputs": [],
   "source": [
    "import re\n",
    "def extract_first_url(text):\n",
    "    url_pattern = r'https?://\\S+'\n",
    "    match = re.search(url_pattern, text)\n",
    "    return match.group(0) if match else None"
   ]
  },
  {
   "cell_type": "code",
   "execution_count": 12,
   "id": "0528d2c5",
   "metadata": {},
   "outputs": [
    {
     "data": {
      "text/plain": [
       "'https://arxiv.org/abs/2410.02536https://www.arxiv.org/abs/2410.02536'"
      ]
     },
     "execution_count": 12,
     "metadata": {},
     "output_type": "execute_result"
    }
   ],
   "source": [
    "message_body.strip()\\\n",
    "    .replace('Thanks,\\r\\nShubham', '')\\\n",
    "    .replace(\"Thanks and regards,\\r\\nShubham Chandel\", \"\")\\\n",
    "    .replace(\"Thanks and Regards,\\r\\n\\r\\nShubham Chandel\\r\\nNew York University\", \"\")\\\n",
    "    .replace(\"-- \\r\\nThis message (including any attachments) contains confidential information \\r\\nintended for a specific individual and purpose, and is protected by law. If \\r\\nyou are not the intended recipient, you should delete this message and are \\r\\nhereby notified that any disclosure, copying, or distribution of this \\r\\nmessage, or the taking of any action based on it, is strictly prohibited.\", \"\")\\\n",
    "    .replace(\"<\", \"\").replace(\">\", \"\").replace(\"\\r\\n\", \"\")\n"
   ]
  },
  {
   "cell_type": "code",
   "execution_count": null,
   "id": "727d3961",
   "metadata": {},
   "outputs": [],
   "source": []
  },
  {
   "cell_type": "code",
   "execution_count": 11,
   "id": "0b1fe6d3",
   "metadata": {},
   "outputs": [],
   "source": [
    "co = cohere.Client(api_key=\"e7FTxIVWjp0NEHTvIg34DYK89kE62P5mITf0FNqw\")"
   ]
  },
  {
   "cell_type": "code",
   "execution_count": 19,
   "id": "d5a3c790-80fb-4c1d-86a3-7b0744fc1ba3",
   "metadata": {},
   "outputs": [],
   "source": [
    "# from unstructured.partition.html import partition_html\n",
    "# from unstructured.chunking.title import chunk_by_title\n",
    "\n",
    "# def load_and_chunk(row):\n",
    "#     \"\"\"\n",
    "#     Loads the text from the sources and chunks the HTML content.\n",
    "#     \"\"\"\n",
    "#     try:\n",
    "#         elements = partition_html(url=row[\"link\"])\n",
    "#         chunks = chunk_by_title(elements, max_characters=2000)\n",
    "#         return [str(chunk) for chunk in chunks]\n",
    "#     except:\n",
    "#         print(row[\"link\"])\n",
    "#         return []"
   ]
  },
  {
   "cell_type": "code",
   "execution_count": 37,
   "id": "decc9bad",
   "metadata": {},
   "outputs": [],
   "source": [
    "df = pd.read_json(\"./links.jsonl\", lines=True)"
   ]
  },
  {
   "cell_type": "code",
   "execution_count": 38,
   "id": "8afecedb",
   "metadata": {},
   "outputs": [
    {
     "data": {
      "text/plain": [
       "(894, 3)"
      ]
     },
     "execution_count": 38,
     "metadata": {},
     "output_type": "execute_result"
    }
   ],
   "source": [
    "df.shape"
   ]
  },
  {
   "cell_type": "code",
   "execution_count": 36,
   "id": "e6e4c381",
   "metadata": {},
   "outputs": [],
   "source": [
    "# df['prompt'] = df.apply(lambda x: f\"Title: {x.subject}\\nLink: {x.link}\\n\" + \"\\n\".join(x.docs[:20]), axis=1)\n",
    "df['prompt'] = df.apply(lambda x: f\"Title: {x.subject}\\nLink: {x.link}\", axis=1)\n",
    "df['embeddings'] = co.embed(texts=list(df.prompt.values), model=\"embed-english-v3.0\", input_type=\"search_document\").embeddings\n"
   ]
  },
  {
   "cell_type": "code",
   "execution_count": 24,
   "id": "4ad8aaf1",
   "metadata": {},
   "outputs": [],
   "source": [
    "df.to_pickle(\"df.embedding\")"
   ]
  },
  {
   "cell_type": "code",
   "execution_count": null,
   "id": "5c3e3f14",
   "metadata": {},
   "outputs": [],
   "source": []
  },
  {
   "cell_type": "code",
   "execution_count": null,
   "id": "2a779aec",
   "metadata": {},
   "outputs": [],
   "source": []
  },
  {
   "cell_type": "code",
   "execution_count": 29,
   "id": "7c81256a",
   "metadata": {},
   "outputs": [
    {
     "data": {
      "text/plain": [
       "(858, 5)"
      ]
     },
     "execution_count": 29,
     "metadata": {},
     "output_type": "execute_result"
    }
   ],
   "source": [
    "df = pd.read_pickle(\"df.embedding\")\n",
    "df.shape"
   ]
  },
  {
   "cell_type": "code",
   "execution_count": null,
   "id": "8666d24f",
   "metadata": {},
   "outputs": [],
   "source": []
  },
  {
   "cell_type": "code",
   "execution_count": 33,
   "id": "15ce95c5",
   "metadata": {},
   "outputs": [
    {
     "data": {
      "text/plain": [
       "858"
      ]
     },
     "execution_count": 33,
     "metadata": {},
     "output_type": "execute_result"
    }
   ],
   "source": [
    "import requests\n",
    "\n",
    "term = \"jax learn\"\n",
    "url = \"https://sksq96--search-app-searchapp-search-dev.modal.run\"\n",
    "params = {\"term\": term}\n",
    "\n",
    "response = requests.get(url, params=params)\n",
    "response.raise_for_status()  # Raise an exception for bad status codes\n",
    "len(response.json())"
   ]
  },
  {
   "cell_type": "code",
   "execution_count": null,
   "id": "96ef4593",
   "metadata": {},
   "outputs": [],
   "source": []
  },
  {
   "cell_type": "code",
   "execution_count": null,
   "id": "ac4a39dd",
   "metadata": {},
   "outputs": [],
   "source": []
  },
  {
   "cell_type": "code",
   "execution_count": null,
   "id": "7ba49563-ac24-4c33-a967-8e28a1389e29",
   "metadata": {},
   "outputs": [],
   "source": []
  },
  {
   "cell_type": "code",
   "execution_count": null,
   "id": "13b70ade-ff3e-4511-a070-b993f3333ee2",
   "metadata": {},
   "outputs": [],
   "source": []
  },
  {
   "cell_type": "code",
   "execution_count": null,
   "id": "87643763-6932-4948-8b57-ae265fa332d2",
   "metadata": {},
   "outputs": [],
   "source": []
  },
  {
   "cell_type": "code",
   "execution_count": null,
   "id": "cc83f919-3450-4066-b701-96b60e888403",
   "metadata": {},
   "outputs": [],
   "source": []
  }
 ],
 "metadata": {
  "kernelspec": {
   "display_name": "base",
   "language": "python",
   "name": "python3"
  },
  "language_info": {
   "codemirror_mode": {
    "name": "ipython",
    "version": 3
   },
   "file_extension": ".py",
   "mimetype": "text/x-python",
   "name": "python",
   "nbconvert_exporter": "python",
   "pygments_lexer": "ipython3",
   "version": "3.12.2"
  }
 },
 "nbformat": 4,
 "nbformat_minor": 5
}
