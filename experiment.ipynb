{
 "cells": [
  {
   "cell_type": "code",
   "execution_count": 118,
   "id": "049dd56d-1d9c-4d2c-b85b-c945f3685e92",
   "metadata": {},
   "outputs": [],
   "source": [
    "from tqdm import tqdm\n",
    "tqdm.pandas()\n",
    "import pandas as pd"
   ]
  },
  {
   "cell_type": "code",
   "execution_count": 119,
   "id": "5937ea2c-f6d1-4e22-a2eb-c4fff3b897ee",
   "metadata": {},
   "outputs": [],
   "source": [
    "import cohere\n",
    "import uuid\n",
    "from typing import List, Dict"
   ]
  },
  {
   "cell_type": "code",
   "execution_count": 343,
   "id": "8f434cba-b9d5-4037-b7e7-e058c3713c3d",
   "metadata": {},
   "outputs": [],
   "source": [
    "# co = cohere.Client(\"xDp0VXO6GeYZp9DxDcP0oncnHNtNALyHxeeZmYE9\")"
   ]
  },
  {
   "cell_type": "code",
   "execution_count": null,
   "id": "0482d9e9-fc4f-46f2-a960-0f1d2752776e",
   "metadata": {},
   "outputs": [],
   "source": []
  },
  {
   "cell_type": "code",
   "execution_count": null,
   "id": "fc3b87fb-ad5d-4ca8-b996-0b33808eb9bc",
   "metadata": {},
   "outputs": [],
   "source": []
  },
  {
   "cell_type": "code",
   "execution_count": 120,
   "id": "60aa71de-0f4f-4aa6-a603-3c3b9db804a4",
   "metadata": {},
   "outputs": [],
   "source": [
    "from unstructured.partition.html import partition_html\n",
    "from unstructured.chunking.title import chunk_by_title"
   ]
  },
  {
   "cell_type": "code",
   "execution_count": 121,
   "id": "51f5c6fb-7b16-4f8b-a0d1-5c73960ebe42",
   "metadata": {},
   "outputs": [],
   "source": [
    "df = pd.read_json(\"/Users/shubham.chandel/Documents/github/links/client/public/links.jsonl\", lines=True)"
   ]
  },
  {
   "cell_type": "code",
   "execution_count": 123,
   "id": "d5a3c790-80fb-4c1d-86a3-7b0744fc1ba3",
   "metadata": {},
   "outputs": [],
   "source": [
    "def load_and_chunk(row):\n",
    "    \"\"\"\n",
    "    Loads the text from the sources and chunks the HTML content.\n",
    "    \"\"\"\n",
    "    try:\n",
    "        elements = partition_html(url=row[\"link\"])\n",
    "        chunks = chunk_by_title(elements, max_characters=2000)\n",
    "        return [str(chunk) for chunk in chunks]\n",
    "    except:\n",
    "        print(row[\"link\"])\n",
    "        return []"
   ]
  },
  {
   "cell_type": "code",
   "execution_count": 124,
   "id": "5e6dcf94-11f7-429a-8da4-d04fd50b2524",
   "metadata": {},
   "outputs": [
    {
     "name": "stderr",
     "output_type": "stream",
     "text": [
      "  6%|█████▏                                                                                       | 21/379 [00:11<04:29,  1.33it/s]"
     ]
    },
    {
     "name": "stdout",
     "output_type": "stream",
     "text": [
      "https://twitter.com/noampomsky/status/1784299111271035244?t=lDxUJEOLM9pCLfaF8cPotA&s=19\n"
     ]
    },
    {
     "name": "stderr",
     "output_type": "stream",
     "text": [
      " 11%|██████████                                                                                   | 41/379 [00:19<01:57,  2.89it/s]"
     ]
    },
    {
     "name": "stdout",
     "output_type": "stream",
     "text": [
      "https://twitter.com/vboykis/status/1783211012159856989?t=03JeT8ePiHjn8Kq65Sy11w&s=19\n"
     ]
    },
    {
     "name": "stderr",
     "output_type": "stream",
     "text": [
      " 12%|███████████                                                                                  | 45/379 [00:20<01:39,  3.36it/s]"
     ]
    },
    {
     "name": "stdout",
     "output_type": "stream",
     "text": [
      "https://www.lesswrong.com/posts/nJqftacoQGKurJ6fv/some-common-confusion-about-induction-heads\n"
     ]
    },
    {
     "name": "stderr",
     "output_type": "stream",
     "text": [
      " 14%|█████████████▎                                                                               | 54/379 [00:24<01:54,  2.83it/s]"
     ]
    },
    {
     "name": "stdout",
     "output_type": "stream",
     "text": [
      "https://twitter.com/JakeOrthwein/status/1782601340574949886?t=E_rUrLBHh7GJznF3owJXRg&s=19\n"
     ]
    },
    {
     "name": "stderr",
     "output_type": "stream",
     "text": [
      " 15%|█████████████▋                                                                               | 56/379 [00:25<01:56,  2.77it/s]"
     ]
    },
    {
     "name": "stdout",
     "output_type": "stream",
     "text": [
      "https://twitter.com/Austen/status/1781542297236336716?t=RCQF0lmxW7HBOx55fwV4nw&s=19\n"
     ]
    },
    {
     "name": "stderr",
     "output_type": "stream",
     "text": [
      " 16%|██████████████▍                                                                              | 59/379 [00:26<01:45,  3.04it/s]"
     ]
    },
    {
     "name": "stdout",
     "output_type": "stream",
     "text": [
      "https://blog.mlc.ai/2023/08/09/GPU-Accelerated-LLM-on-Orange-Pi\n"
     ]
    },
    {
     "name": "stderr",
     "output_type": "stream",
     "text": [
      " 16%|███████████████▏                                                                             | 62/379 [00:26<01:11,  4.45it/s]"
     ]
    },
    {
     "name": "stdout",
     "output_type": "stream",
     "text": [
      "https://twitter.com/karpathy/status/1781033433336262691?t=FDgCmXCipL8eTywUyOGNhA&s=19\n"
     ]
    },
    {
     "name": "stderr",
     "output_type": "stream",
     "text": [
      " 17%|███████████████▍                                                                             | 63/379 [00:27<01:02,  5.05it/s]"
     ]
    },
    {
     "name": "stdout",
     "output_type": "stream",
     "text": [
      "https://twitter.com/VitallyMelanie/status/1781111813540860316?t=sg5AHS1lgnIKGwEdk8ZE3w&s=19\n"
     ]
    },
    {
     "name": "stderr",
     "output_type": "stream",
     "text": [
      " 17%|████████████████▏                                                                            | 66/379 [00:28<01:53,  2.76it/s]"
     ]
    },
    {
     "name": "stdout",
     "output_type": "stream",
     "text": [
      "https://twitter.com/FedericoNoemie/status/1781007168545919123?t=3XmCpiauvufqhiofk26GSA&s=19\n"
     ]
    },
    {
     "name": "stderr",
     "output_type": "stream",
     "text": [
      " 19%|█████████████████▉                                                                           | 73/379 [00:31<02:03,  2.48it/s]"
     ]
    },
    {
     "name": "stdout",
     "output_type": "stream",
     "text": [
      "https://andersonchris.medium.com/the-nerd-urban-dictionary-abcd55ca7ac4\n",
      "https://twitter.com/annarmonaco/status/1780649525314752808?t=vjPI5vlRqmJf9iw4NbpSXg&s=19\n"
     ]
    },
    {
     "name": "stderr",
     "output_type": "stream",
     "text": [
      " 20%|██████████████████▏                                                                          | 74/379 [00:32<01:52,  2.72it/s]"
     ]
    },
    {
     "name": "stdout",
     "output_type": "stream",
     "text": [
      "https://static1.squarespace.com/static/5b3a3c2596e76feeba40905e/t/5b46366570a6add65490e050/1531328102222/1977workingItOut.pdf02773614\n"
     ]
    },
    {
     "name": "stderr",
     "output_type": "stream",
     "text": [
      " 22%|████████████████████▎                                                                        | 83/379 [00:36<01:52,  2.62it/s]"
     ]
    },
    {
     "name": "stdout",
     "output_type": "stream",
     "text": [
      "https://twitter.com/srush_nlp/status/1780231813820002771?t=8_NBqRvgEHvV2kmrEh_i5g&s=19\n"
     ]
    },
    {
     "name": "stderr",
     "output_type": "stream",
     "text": [
      " 22%|████████████████████▊                                                                        | 85/379 [00:36<01:40,  2.92it/s]"
     ]
    },
    {
     "name": "stdout",
     "output_type": "stream",
     "text": [
      "https://www.freetaxusa.com/\n"
     ]
    },
    {
     "name": "stderr",
     "output_type": "stream",
     "text": [
      " 23%|█████████████████████▌                                                                       | 88/379 [00:37<01:37,  2.97it/s]"
     ]
    },
    {
     "name": "stdout",
     "output_type": "stream",
     "text": [
      "https://publications.reka.ai/reka-core-tech-report.pdf\n",
      "https://www.lesswrong.com/posts/jGu4nLgQYwfsoxddu/reconsider-the-anti-cavity-bacteria-if-you-are-asian\n"
     ]
    },
    {
     "name": "stderr",
     "output_type": "stream",
     "text": [
      " 24%|██████████████████████▎                                                                      | 91/379 [00:38<01:36,  2.99it/s]"
     ]
    },
    {
     "name": "stdout",
     "output_type": "stream",
     "text": [
      "https://www.lesswrong.com/posts/6Fpvch8RR29qLEWNH/chinchilla-s-wild-implications\n"
     ]
    },
    {
     "name": "stderr",
     "output_type": "stream",
     "text": [
      " 25%|███████████████████████                                                                      | 94/379 [00:39<01:06,  4.29it/s]"
     ]
    },
    {
     "name": "stdout",
     "output_type": "stream",
     "text": [
      "https://twitter.com/cloud11665/status/1779401390311473309?t=8uwlINjXW6jyf1WL0duVfw&s=19\n"
     ]
    },
    {
     "name": "stderr",
     "output_type": "stream",
     "text": [
      " 25%|███████████████████████▌                                                                     | 96/379 [00:39<00:54,  5.23it/s]"
     ]
    },
    {
     "name": "stdout",
     "output_type": "stream",
     "text": [
      "https://twitter.com/anabology/status/1778961069592940833?t=wQsB9lHgjNNV85DlgvOAJA&s=19\n"
     ]
    },
    {
     "name": "stderr",
     "output_type": "stream",
     "text": [
      " 26%|████████████████████████▎                                                                    | 99/379 [00:49<09:46,  2.09s/it]"
     ]
    },
    {
     "name": "stdout",
     "output_type": "stream",
     "text": [
      "https://traffic.libsyn.com/secure/infiniteloops/210._Audio_only_version.mp3?dest-id=1666472\n"
     ]
    },
    {
     "name": "stderr",
     "output_type": "stream",
     "text": [
      " 27%|█████████████████████████▏                                                                  | 104/379 [00:50<02:39,  1.73it/s]"
     ]
    },
    {
     "name": "stdout",
     "output_type": "stream",
     "text": [
      "https://twitter.com/MajmudarAdam/status/1778235769150423121?t=q0_jO1yHcwHsqxPCwJLeEg&s=19\n"
     ]
    },
    {
     "name": "stderr",
     "output_type": "stream",
     "text": [
      " 28%|█████████████████████████▋                                                                  | 106/379 [00:51<01:51,  2.45it/s]"
     ]
    },
    {
     "name": "stdout",
     "output_type": "stream",
     "text": [
      "https://twitter.com/kenshin9000_/status/1734238211088506967?t=Qbier-soYSzLLlTvMk0uMg&s=19\n"
     ]
    },
    {
     "name": "stderr",
     "output_type": "stream",
     "text": [
      " 28%|█████████████████████████▉                                                                  | 107/379 [00:51<01:53,  2.39it/s]"
     ]
    },
    {
     "name": "stdout",
     "output_type": "stream",
     "text": [
      "https://x.com/futuristfrog/status/1778109834509832462?t=QGLt3p0aWpStXKjF7dPuQA\n",
      "https://twitter.com/RogerThisdell/status/1778457701724348871?t=uohLqfj5Lfmua_CH1FoJ2A&s=19\n"
     ]
    },
    {
     "name": "stderr",
     "output_type": "stream",
     "text": [
      " 30%|███████████████████████████▍                                                                | 113/379 [00:54<01:40,  2.66it/s]"
     ]
    },
    {
     "name": "stdout",
     "output_type": "stream",
     "text": [
      "https://www.turingpost.com/p/timegpt\n"
     ]
    },
    {
     "name": "stderr",
     "output_type": "stream",
     "text": [
      " 41%|█████████████████████████████████████▋                                                      | 155/379 [01:21<01:48,  2.06it/s]"
     ]
    },
    {
     "name": "stdout",
     "output_type": "stream",
     "text": [
      "https://peterattiamd.com/outlive/\n"
     ]
    },
    {
     "name": "stderr",
     "output_type": "stream",
     "text": [
      " 42%|██████████████████████████████████████▌                                                     | 159/379 [01:36<15:05,  4.11s/it]"
     ]
    },
    {
     "name": "stdout",
     "output_type": "stream",
     "text": [
      "https://pdst.fm/e/chrt.fm/track/993DGA/traffic.megaphone.fm/RINTP8288903414.mp3?updated=1712283712\n"
     ]
    },
    {
     "name": "stderr",
     "output_type": "stream",
     "text": [
      " 46%|█████████████████████████████████████████▉                                                  | 173/379 [01:43<01:49,  1.88it/s]"
     ]
    },
    {
     "name": "stdout",
     "output_type": "stream",
     "text": [
      "https://qntm.org/mmacevedo\n"
     ]
    },
    {
     "name": "stderr",
     "output_type": "stream",
     "text": [
      " 48%|████████████████████████████████████████████▏                                               | 182/379 [01:47<01:16,  2.58it/s]"
     ]
    },
    {
     "name": "stdout",
     "output_type": "stream",
     "text": [
      "https://x.com/AbhishekMarkets/status/1770803219859382753?t=iEqGWFYlwH06-oB6igyIOA&s=03\n"
     ]
    },
    {
     "name": "stderr",
     "output_type": "stream",
     "text": [
      " 49%|████████████████████████████████████████████▋                                               | 184/379 [01:48<01:29,  2.17it/s]"
     ]
    },
    {
     "name": "stdout",
     "output_type": "stream",
     "text": [
      "Mamba Explained\n"
     ]
    },
    {
     "name": "stderr",
     "output_type": "stream",
     "text": [
      " 51%|██████████████████████████████████████████████▊                                             | 193/379 [01:52<01:05,  2.82it/s]"
     ]
    },
    {
     "name": "stdout",
     "output_type": "stream",
     "text": [
      "https://www.lesswrong.com/s/4hmf7rdfuXDJkxhfg/p/hTMFt3h7QqA2qecn7?s=03\n"
     ]
    },
    {
     "name": "stderr",
     "output_type": "stream",
     "text": [
      " 58%|█████████████████████████████████████████████████████▋                                      | 221/379 [02:07<00:52,  2.98it/s]"
     ]
    },
    {
     "name": "stdout",
     "output_type": "stream",
     "text": [
      "https://twitter.com/Caldwbr/status/1774563788089425985\n"
     ]
    },
    {
     "name": "stderr",
     "output_type": "stream",
     "text": [
      " 60%|███████████████████████████████████████████████████████                                     | 227/379 [02:13<02:23,  1.06it/s]"
     ]
    },
    {
     "name": "stdout",
     "output_type": "stream",
     "text": [
      "https://myterra.ai/\n"
     ]
    },
    {
     "name": "stderr",
     "output_type": "stream",
     "text": [
      " 65%|███████████████████████████████████████████████████████████▍                                | 245/379 [02:21<00:58,  2.27it/s]"
     ]
    },
    {
     "name": "stdout",
     "output_type": "stream",
     "text": [
      "https://marginalrevolution.com/wp-content/uploads/2022/05/Cryptoeconomics-Modern-Principles.pdf\n"
     ]
    },
    {
     "name": "stderr",
     "output_type": "stream",
     "text": [
      " 68%|██████████████████████████████████████████████████████████████▍                             | 257/379 [02:27<01:21,  1.49it/s]"
     ]
    },
    {
     "name": "stdout",
     "output_type": "stream",
     "text": [
      "Happy Birthday Bhaiya\n"
     ]
    },
    {
     "name": "stderr",
     "output_type": "stream",
     "text": [
      " 69%|███████████████████████████████████████████████████████████████▊                            | 263/379 [02:31<01:33,  1.24it/s]"
     ]
    },
    {
     "name": "stdout",
     "output_type": "stream",
     "text": [
      "https://openreview.net/pdf?id=RyZB4qXEgt\n"
     ]
    },
    {
     "name": "stderr",
     "output_type": "stream",
     "text": [
      " 74%|████████████████████████████████████████████████████████████████████▏                       | 281/379 [02:40<00:44,  2.18it/s]"
     ]
    },
    {
     "name": "stdout",
     "output_type": "stream",
     "text": [
      "https://www.patreon.com/posts/episode-1-72274824\n"
     ]
    },
    {
     "name": "stderr",
     "output_type": "stream",
     "text": [
      " 77%|██████████████████████████████████████████████████████████████████████▉                     | 292/379 [02:44<00:40,  2.14it/s]"
     ]
    },
    {
     "name": "stdout",
     "output_type": "stream",
     "text": [
      "https://galactanet.com/lostsols.pdf\n"
     ]
    },
    {
     "name": "stderr",
     "output_type": "stream",
     "text": [
      " 78%|███████████████████████████████████████████████████████████████████████▎                    | 294/379 [02:45<00:28,  3.00it/s]"
     ]
    },
    {
     "name": "stdout",
     "output_type": "stream",
     "text": [
      "https://maija-haavisto.medium.com/introduction-to-internal-family-\n"
     ]
    },
    {
     "name": "stderr",
     "output_type": "stream",
     "text": [
      " 80%|██████████████████████████████████████████████████████████████████████████                  | 305/379 [02:52<00:32,  2.29it/s]"
     ]
    },
    {
     "name": "stdout",
     "output_type": "stream",
     "text": [
      "https://notion.notion.site/notion/Linus-s-reading-list-\n"
     ]
    },
    {
     "name": "stderr",
     "output_type": "stream",
     "text": [
      " 82%|███████████████████████████████████████████████████████████████████████████▎                | 310/379 [02:54<00:27,  2.55it/s]"
     ]
    },
    {
     "name": "stdout",
     "output_type": "stream",
     "text": [
      "Clone your friends with iMessage and MLX\n"
     ]
    },
    {
     "name": "stderr",
     "output_type": "stream",
     "text": [
      " 84%|████████████████████████████████████████████████████████████████████████████▉               | 317/379 [02:57<00:39,  1.59it/s]"
     ]
    },
    {
     "name": "stdout",
     "output_type": "stream",
     "text": [
      "https://carljungdepthpsychologysite.blog/2023/01/20/carl-jung-on-active-\n"
     ]
    },
    {
     "name": "stderr",
     "output_type": "stream",
     "text": [
      " 84%|█████████████████████████████████████████████████████████████████████████████▋              | 320/379 [02:59<00:34,  1.73it/s]"
     ]
    },
    {
     "name": "stdout",
     "output_type": "stream",
     "text": [
      "https://www.sympatheticopposition.com/p/hyperstimuli-are-\n"
     ]
    },
    {
     "name": "stderr",
     "output_type": "stream",
     "text": [
      " 85%|██████████████████████████████████████████████████████████████████████████████▏             | 322/379 [03:00<00:31,  1.81it/s]"
     ]
    },
    {
     "name": "stdout",
     "output_type": "stream",
     "text": [
      "https://programs.clearerthinking.org/personality.html\n"
     ]
    },
    {
     "name": "stderr",
     "output_type": "stream",
     "text": [
      " 85%|██████████████████████████████████████████████████████████████████████████████▍             | 323/379 [03:01<00:26,  2.10it/s]"
     ]
    },
    {
     "name": "stdout",
     "output_type": "stream",
     "text": [
      "https://twitter.com/nickcammarata/status/1561191706124603395\n"
     ]
    },
    {
     "name": "stderr",
     "output_type": "stream",
     "text": [
      " 86%|███████████████████████████████████████████████████████████████████████████████▍            | 327/379 [03:02<00:14,  3.59it/s]"
     ]
    },
    {
     "name": "stdout",
     "output_type": "stream",
     "text": [
      "https://x.com/heynibras/status/1753853497358069950?t=J-\n",
      "Stage Theory of Enlightenment\n",
      "http://neuroticgradientdescent.blogspot.com/2020/01/mistranslating-\n"
     ]
    },
    {
     "name": "stderr",
     "output_type": "stream",
     "text": [
      " 87%|████████████████████████████████████████████████████████████████████████████████▎           | 331/379 [03:04<00:31,  1.53it/s]"
     ]
    },
    {
     "name": "stdout",
     "output_type": "stream",
     "text": [
      "https://www.gladia.io/blog/top-5-whisper-github-projects-a-practical-\n"
     ]
    },
    {
     "name": "stderr",
     "output_type": "stream",
     "text": [
      " 88%|█████████████████████████████████████████████████████████████████████████████████▎          | 335/379 [03:06<00:18,  2.37it/s]"
     ]
    },
    {
     "name": "stdout",
     "output_type": "stream",
     "text": [
      "https://x.com/visakanv/status/1094684057173016581?t=67Q60efjtV2wnz_FlGTcaA&s=09\n"
     ]
    },
    {
     "name": "stderr",
     "output_type": "stream",
     "text": [
      " 89%|█████████████████████████████████████████████████████████████████████████████████▊          | 337/379 [03:07<00:27,  1.54it/s]"
     ]
    },
    {
     "name": "stdout",
     "output_type": "stream",
     "text": [
      "https://www.startertosf.guide/?s=09\n"
     ]
    },
    {
     "name": "stderr",
     "output_type": "stream",
     "text": [
      " 90%|███████████████████████████████████████████████████████████████████████████████████         | 342/379 [03:10<00:20,  1.80it/s]"
     ]
    },
    {
     "name": "stdout",
     "output_type": "stream",
     "text": [
      "https://open.substack.com/pub/dannyroddy/p/demystifying-thyroid-\n"
     ]
    },
    {
     "name": "stderr",
     "output_type": "stream",
     "text": [
      " 91%|███████████████████████████████████████████████████████████████████████████████████▉        | 346/379 [03:12<00:14,  2.30it/s]"
     ]
    },
    {
     "name": "stdout",
     "output_type": "stream",
     "text": [
      "https://x.com/Outdoctrination/status/1750903148678459426?t=m499MGRLLL4vgokBGXkbMA&s=09\n"
     ]
    },
    {
     "name": "stderr",
     "output_type": "stream",
     "text": [
      " 92%|████████████████████████████████████████████████████████████████████████████████████▍       | 348/379 [03:12<00:10,  3.01it/s]"
     ]
    },
    {
     "name": "stdout",
     "output_type": "stream",
     "text": [
      "https://x.com/meditationstuff/status/1750915436529467431?t=oHWnMT_KblCbYKiRBsRUPg&s=09\n",
      "https://www.amazon.com/EuroMedica-BosPro-Supplement-Inflammation-Non-\n"
     ]
    },
    {
     "name": "stderr",
     "output_type": "stream",
     "text": [
      " 92%|████████████████████████████████████████████████████████████████████████████████████▋       | 349/379 [03:12<00:08,  3.73it/s]"
     ]
    },
    {
     "name": "stdout",
     "output_type": "stream",
     "text": [
      "https://www.amazon.com/Myo-Inositol-D-Chiro-Inositol-Blend-\n"
     ]
    },
    {
     "name": "stderr",
     "output_type": "stream",
     "text": [
      " 93%|█████████████████████████████████████████████████████████████████████████████████████▏      | 351/379 [03:13<00:09,  2.84it/s]"
     ]
    },
    {
     "name": "stdout",
     "output_type": "stream",
     "text": [
      "https://tyleralterman.notion.site/Tyler-has-a-mysterious-gut-condition-\n"
     ]
    },
    {
     "name": "stderr",
     "output_type": "stream",
     "text": [
      " 95%|███████████████████████████████████████████████████████████████████████████████████████▏    | 359/379 [03:15<00:04,  4.47it/s]"
     ]
    },
    {
     "name": "stdout",
     "output_type": "stream",
     "text": [
      "https://lexica.art/\n"
     ]
    },
    {
     "name": "stderr",
     "output_type": "stream",
     "text": [
      " 96%|████████████████████████████████████████████████████████████████████████████████████████    | 363/379 [03:18<00:07,  2.04it/s]"
     ]
    },
    {
     "name": "stdout",
     "output_type": "stream",
     "text": [
      "okay I'm travelling to mount abu with parth. primarily my first trip\n"
     ]
    },
    {
     "name": "stderr",
     "output_type": "stream",
     "text": [
      " 97%|█████████████████████████████████████████████████████████████████████████████████████████▎  | 368/379 [03:20<00:05,  2.09it/s]"
     ]
    },
    {
     "name": "stdout",
     "output_type": "stream",
     "text": [
      "https://twitter.com/svpino/status/1747971746047627682\n"
     ]
    },
    {
     "name": "stderr",
     "output_type": "stream",
     "text": [
      " 98%|██████████████████████████████████████████████████████████████████████████████████████████  | 371/379 [03:22<00:03,  2.03it/s]"
     ]
    },
    {
     "name": "stdout",
     "output_type": "stream",
     "text": [
      "https://arxiv.org/pdf/2310.14810.pdf?curius=1252\n"
     ]
    },
    {
     "name": "stderr",
     "output_type": "stream",
     "text": [
      " 98%|██████████████████████████████████████████████████████████████████████████████████████████▎ | 372/379 [03:23<00:04,  1.69it/s]"
     ]
    },
    {
     "name": "stdout",
     "output_type": "stream",
     "text": [
      "https://archive.is/1rT0A\n"
     ]
    },
    {
     "name": "stderr",
     "output_type": "stream",
     "text": [
      " 98%|██████████████████████████████████████████████████████████████████████████████████████████▌ | 373/379 [03:23<00:03,  1.70it/s]"
     ]
    },
    {
     "name": "stdout",
     "output_type": "stream",
     "text": [
      "https://jykoh.com/gill/gill_talk.pdf\n",
      "part 1: the silent spring\n"
     ]
    },
    {
     "name": "stderr",
     "output_type": "stream",
     "text": [
      " 99%|███████████████████████████████████████████████████████████████████████████████████████████ | 375/379 [03:24<00:01,  2.69it/s]"
     ]
    },
    {
     "name": "stdout",
     "output_type": "stream",
     "text": [
      "https://academic.oup.com/schizophreniabulletin/advance-\n"
     ]
    },
    {
     "name": "stderr",
     "output_type": "stream",
     "text": [
      "100%|████████████████████████████████████████████████████████████████████████████████████████████| 379/379 [03:25<00:00,  1.84it/s]\n"
     ]
    }
   ],
   "source": [
    "df[\"docs\"] = df.progress_apply(load_and_chunk, axis=1)"
   ]
  },
  {
   "cell_type": "code",
   "execution_count": 342,
   "id": "ba5495d6-eb73-4f14-8113-e2664905157e",
   "metadata": {},
   "outputs": [],
   "source": [
    "df.to_pickle(\"df.embedding\")"
   ]
  },
  {
   "cell_type": "code",
   "execution_count": null,
   "id": "f18cd644-456b-42bd-917b-e5ffda65ab23",
   "metadata": {},
   "outputs": [],
   "source": []
  },
  {
   "cell_type": "code",
   "execution_count": null,
   "id": "f4edda1a-e1f8-448e-a701-d9c9e756b8b2",
   "metadata": {},
   "outputs": [],
   "source": []
  },
  {
   "cell_type": "code",
   "execution_count": null,
   "id": "6ac3a600-295b-47d3-a8bf-9c68a557a566",
   "metadata": {},
   "outputs": [],
   "source": []
  },
  {
   "cell_type": "code",
   "execution_count": null,
   "id": "ced7c20b-d066-4ec3-a24f-26d65a0ccf15",
   "metadata": {},
   "outputs": [],
   "source": []
  },
  {
   "cell_type": "code",
   "execution_count": null,
   "id": "2448360f-d150-4cf6-8834-2e8526c09874",
   "metadata": {},
   "outputs": [],
   "source": [
    "import numpy as np\n",
    "\n",
    "def cosine_similarity(arr, matrix, k=10):\n",
    "    arr_norm = arr / np.linalg.norm(arr)\n",
    "    matrix_norm = matrix / np.linalg.norm(matrix, axis=1, keepdims=True)\n",
    "    similarity = np.dot(matrix_norm, arr_norm)\n",
    "    top_k_indices = np.argpartition(-similarity, k)[:k]\n",
    "    return top_k_indices"
   ]
  },
  {
   "cell_type": "code",
   "execution_count": null,
   "id": "19d03fc2-adad-4bc5-981a-629f5fcfbf92",
   "metadata": {},
   "outputs": [],
   "source": []
  },
  {
   "cell_type": "code",
   "execution_count": null,
   "id": "59663b3e-fb49-44cd-a55e-ca86b1b78952",
   "metadata": {},
   "outputs": [],
   "source": []
  },
  {
   "cell_type": "code",
   "execution_count": 330,
   "id": "9e25221b-0471-4aea-a9c8-1987c1c9353d",
   "metadata": {},
   "outputs": [],
   "source": [
    "# print(df.sample(1).prompt.values)"
   ]
  },
  {
   "cell_type": "code",
   "execution_count": 323,
   "id": "bc1561aa-576e-4dd7-b832-5c728394e25d",
   "metadata": {},
   "outputs": [],
   "source": [
    "df['prompt'] = df.apply(lambda x: f\"Title: {x.subject}\\nLink: {x.link}\\n\" + \"\\n\".join(x.docs[:20]), axis=1)\n",
    "df['embeddings'] = co.embed(texts=list(df.prompt.values), model=\"embed-english-v3.0\", input_type=\"search_document\").embeddings\n",
    "embeddings = np.array(df['embeddings'].tolist())"
   ]
  },
  {
   "cell_type": "code",
   "execution_count": null,
   "id": "f258f555-6d00-4754-a8a2-55884e39f2b0",
   "metadata": {},
   "outputs": [],
   "source": []
  },
  {
   "cell_type": "code",
   "execution_count": null,
   "id": "7ba49563-ac24-4c33-a967-8e28a1389e29",
   "metadata": {},
   "outputs": [],
   "source": []
  },
  {
   "cell_type": "code",
   "execution_count": null,
   "id": "13b70ade-ff3e-4511-a070-b993f3333ee2",
   "metadata": {},
   "outputs": [],
   "source": []
  },
  {
   "cell_type": "code",
   "execution_count": 337,
   "id": "f7ee35b2-b4f5-47d5-a7f7-1ba4089be1cc",
   "metadata": {},
   "outputs": [],
   "source": [
    "query = \"jax learn\"\n",
    "query_emb = co.embed(texts=[query], model=\"embed-english-v3.0\", input_type=\"search_query\").embeddings[0]"
   ]
  },
  {
   "cell_type": "code",
   "execution_count": null,
   "id": "70e43335-e174-421d-9de2-a349b1849ac4",
   "metadata": {},
   "outputs": [],
   "source": []
  },
  {
   "cell_type": "code",
   "execution_count": 347,
   "id": "f0f22ef1-a3f5-49fc-abf1-52d660a4cede",
   "metadata": {},
   "outputs": [
    {
     "data": {
      "text/html": [
       "<div>\n",
       "<style scoped>\n",
       "    .dataframe tbody tr th:only-of-type {\n",
       "        vertical-align: middle;\n",
       "    }\n",
       "\n",
       "    .dataframe tbody tr th {\n",
       "        vertical-align: top;\n",
       "    }\n",
       "\n",
       "    .dataframe thead th {\n",
       "        text-align: right;\n",
       "    }\n",
       "</style>\n",
       "<table border=\"1\" class=\"dataframe\">\n",
       "  <thead>\n",
       "    <tr style=\"text-align: right;\">\n",
       "      <th></th>\n",
       "      <th>link</th>\n",
       "    </tr>\n",
       "  </thead>\n",
       "  <tbody>\n",
       "    <tr>\n",
       "      <th>8</th>\n",
       "      <td>https://jax.readthedocs.io/en/latest/notebooks...</td>\n",
       "    </tr>\n",
       "    <tr>\n",
       "      <th>307</th>\n",
       "      <td>https://tasshin.com/metta-recordings/</td>\n",
       "    </tr>\n",
       "    <tr>\n",
       "      <th>74</th>\n",
       "      <td>https://github.com/yixiaoer/mistral-v0.2-jax</td>\n",
       "    </tr>\n",
       "    <tr>\n",
       "      <th>218</th>\n",
       "      <td>https://srush.github.io/annotated-s4/</td>\n",
       "    </tr>\n",
       "    <tr>\n",
       "      <th>77</th>\n",
       "      <td>https://arxiv.org/abs/2306.01128</td>\n",
       "    </tr>\n",
       "    <tr>\n",
       "      <th>13</th>\n",
       "      <td>https://jax.readthedocs.io/en/latest/autodidax...</td>\n",
       "    </tr>\n",
       "    <tr>\n",
       "      <th>363</th>\n",
       "      <td>https://www.youtube.com/watch?v=k6Y8BsfTiQY&amp;ab...</td>\n",
       "    </tr>\n",
       "    <tr>\n",
       "      <th>219</th>\n",
       "      <td>https://twitter.com/Caldwbr/status/17745637880...</td>\n",
       "    </tr>\n",
       "    <tr>\n",
       "      <th>10</th>\n",
       "      <td>https://youtu.be/qFZbu2P1vZ8?si=MCmmlAa0hMxKXdqs</td>\n",
       "    </tr>\n",
       "    <tr>\n",
       "      <th>87</th>\n",
       "      <td>https://asteriskmag.com/issues/06/manufacturin...</td>\n",
       "    </tr>\n",
       "  </tbody>\n",
       "</table>\n",
       "</div>"
      ],
      "text/plain": [
       "                                                  link\n",
       "8    https://jax.readthedocs.io/en/latest/notebooks...\n",
       "307              https://tasshin.com/metta-recordings/\n",
       "74        https://github.com/yixiaoer/mistral-v0.2-jax\n",
       "218              https://srush.github.io/annotated-s4/\n",
       "77                    https://arxiv.org/abs/2306.01128\n",
       "13   https://jax.readthedocs.io/en/latest/autodidax...\n",
       "363  https://www.youtube.com/watch?v=k6Y8BsfTiQY&ab...\n",
       "219  https://twitter.com/Caldwbr/status/17745637880...\n",
       "10    https://youtu.be/qFZbu2P1vZ8?si=MCmmlAa0hMxKXdqs\n",
       "87   https://asteriskmag.com/issues/06/manufacturin..."
      ]
     },
     "execution_count": 347,
     "metadata": {},
     "output_type": "execute_result"
    }
   ],
   "source": [
    "df.iloc[cosine_similarity(query_emb, embeddings)][['link']]"
   ]
  },
  {
   "cell_type": "code",
   "execution_count": 344,
   "id": "520f6fa0-7450-4dd3-b563-d19d46733293",
   "metadata": {},
   "outputs": [
    {
     "data": {
      "text/plain": [
       "array([  8, 307,  74, 218,  77,  13, 363, 219,  10,  87])"
      ]
     },
     "execution_count": 344,
     "metadata": {},
     "output_type": "execute_result"
    }
   ],
   "source": []
  },
  {
   "cell_type": "code",
   "execution_count": 338,
   "id": "17cf8458-c61b-4bc5-842e-dee25868e0ac",
   "metadata": {},
   "outputs": [
    {
     "data": {
      "text/html": [
       "<div>\n",
       "<style scoped>\n",
       "    .dataframe tbody tr th:only-of-type {\n",
       "        vertical-align: middle;\n",
       "    }\n",
       "\n",
       "    .dataframe tbody tr th {\n",
       "        vertical-align: top;\n",
       "    }\n",
       "\n",
       "    .dataframe thead th {\n",
       "        text-align: right;\n",
       "    }\n",
       "</style>\n",
       "<table border=\"1\" class=\"dataframe\">\n",
       "  <thead>\n",
       "    <tr style=\"text-align: right;\">\n",
       "      <th></th>\n",
       "      <th>subject</th>\n",
       "      <th>date</th>\n",
       "      <th>link</th>\n",
       "      <th>docs</th>\n",
       "      <th>smalldocs</th>\n",
       "      <th>smalldoc</th>\n",
       "      <th>embeddings</th>\n",
       "      <th>prompt</th>\n",
       "    </tr>\n",
       "  </thead>\n",
       "  <tbody>\n",
       "    <tr>\n",
       "      <th>8</th>\n",
       "      <td>🔪 JAX - The Sharp Bits 🔪 — JAX documentation</td>\n",
       "      <td>Tue, 30 Apr 2024 01:38:59 -0400</td>\n",
       "      <td>https://jax.readthedocs.io/en/latest/notebooks...</td>\n",
       "      <td>[🔪 JAX - The Sharp Bits 🔪#\\n\\nlevskaya@ mattjj...</td>\n",
       "      <td>🔪 JAX - The Sharp Bits 🔪#\\n\\nlevskaya@ mattjj@...</td>\n",
       "      <td>🔪 JAX - The Sharp Bits 🔪#\\n\\nlevskaya@ mattjj@...</td>\n",
       "      <td>[-0.023498535, -0.012969971, -0.057769775, -0....</td>\n",
       "      <td>Title: 🔪 JAX - The Sharp Bits 🔪 — JAX document...</td>\n",
       "    </tr>\n",
       "    <tr>\n",
       "      <th>307</th>\n",
       "      <td>Metta Recordings - Tasshin</td>\n",
       "      <td>Thu, 8 Feb 2024 12:23:14 -0800</td>\n",
       "      <td>https://tasshin.com/metta-recordings/</td>\n",
       "      <td>[Metta Recordings\\n\\nI regularly guide heart-c...</td>\n",
       "      <td>Metta Recordings\\n\\nI regularly guide heart-ce...</td>\n",
       "      <td>Metta Recordings\\n\\nI regularly guide heart-ce...</td>\n",
       "      <td>[-0.024658203, -0.025604248, -0.0031967163, -0...</td>\n",
       "      <td>Title: Metta Recordings - Tasshin\\nLink: https...</td>\n",
       "    </tr>\n",
       "    <tr>\n",
       "      <th>74</th>\n",
       "      <td>GitHub - yixiaoer/mistral-v0.2-jax: JAX implem...</td>\n",
       "      <td>Wed, 17 Apr 2024 21:00:11 -0400</td>\n",
       "      <td>https://github.com/yixiaoer/mistral-v0.2-jax</td>\n",
       "      <td>[Mistral 7B v0.2 JAX\\n\\nThis project is the JA...</td>\n",
       "      <td>Mistral 7B v0.2 JAX\\n\\nThis project is the JAX...</td>\n",
       "      <td>Mistral 7B v0.2 JAX\\n\\nThis project is the JAX...</td>\n",
       "      <td>[-0.085754395, -0.024902344, -0.06890869, 0.00...</td>\n",
       "      <td>Title: GitHub - yixiaoer/mistral-v0.2-jax: JAX...</td>\n",
       "    </tr>\n",
       "    <tr>\n",
       "      <th>218</th>\n",
       "      <td>The Annotated S4</td>\n",
       "      <td>Sun, 31 Mar 2024 23:49:06 -0700</td>\n",
       "      <td>https://srush.github.io/annotated-s4/</td>\n",
       "      <td>[The Annotated S4\\n\\nEfficiently Modeling Long...</td>\n",
       "      <td>The Annotated S4\\n\\nEfficiently Modeling Long\\...</td>\n",
       "      <td>The Annotated S4\\n\\nEfficiently Modeling Long\\...</td>\n",
       "      <td>[-0.013496399, -0.003660202, 0.02166748, -0.01...</td>\n",
       "      <td>Title: The Annotated S4\\nLink: https://srush.g...</td>\n",
       "    </tr>\n",
       "    <tr>\n",
       "      <th>77</th>\n",
       "      <td>[2306.01128] Learning Transformer Programs</td>\n",
       "      <td>Wed, 17 Apr 2024 14:30:37 -0400</td>\n",
       "      <td>https://arxiv.org/abs/2306.01128</td>\n",
       "      <td>[Computer Science &gt; Machine Learning\\n\\n\\n  [S...</td>\n",
       "      <td>Computer Science &gt; Machine Learning\\n\\n\\n  [Su...</td>\n",
       "      <td>Computer Science &gt; Machine Learning\\n\\n\\n  [Su...</td>\n",
       "      <td>[-0.038391113, 0.0036087036, 0.011978149, 0.04...</td>\n",
       "      <td>Title: [2306.01128] Learning Transformer Progr...</td>\n",
       "    </tr>\n",
       "    <tr>\n",
       "      <th>13</th>\n",
       "      <td>Autodidax: JAX core from scratch — JAX documen...</td>\n",
       "      <td>Mon, 29 Apr 2024 00:13:54 -0400</td>\n",
       "      <td>https://jax.readthedocs.io/en/latest/autodidax...</td>\n",
       "      <td>[Autodidax: JAX core from scratch#\\n\\nEver wan...</td>\n",
       "      <td>Autodidax: JAX core from scratch#\\n\\nEver want...</td>\n",
       "      <td>Autodidax: JAX core from scratch#\\n\\nEver want...</td>\n",
       "      <td>[-0.04043579, -0.00095176697, -0.059936523, -0...</td>\n",
       "      <td>Title: Autodidax: JAX core from scratch — JAX ...</td>\n",
       "    </tr>\n",
       "    <tr>\n",
       "      <th>363</th>\n",
       "      <td>An Introduction to the Jhanas - (Practising th...</td>\n",
       "      <td>Fri, 19 Jan 2024 02:47:26 +0530</td>\n",
       "      <td>https://www.youtube.com/watch?v=k6Y8BsfTiQY&amp;ab...</td>\n",
       "      <td>[About\\n\\nPress\\n\\nCopyright\\n\\nContact us\\n\\n...</td>\n",
       "      <td>About\\n\\nPress\\n\\nCopyright\\n\\nContact us\\n\\nC...</td>\n",
       "      <td>About\\n\\nPress\\n\\nCopyright\\n\\nContact us\\n\\nC...</td>\n",
       "      <td>[0.0037231445, -0.0008993149, -0.0063591003, -...</td>\n",
       "      <td>Title: An Introduction to the Jhanas - (Practi...</td>\n",
       "    </tr>\n",
       "    <tr>\n",
       "      <th>219</th>\n",
       "      <td>Brad Caldwell on X: \"Mind blown today. Baars p...</td>\n",
       "      <td>Sun, 31 Mar 2024 23:31:12 -0700</td>\n",
       "      <td>https://twitter.com/Caldwbr/status/17745637880...</td>\n",
       "      <td>[]</td>\n",
       "      <td></td>\n",
       "      <td></td>\n",
       "      <td>[0.015823364, -0.019500732, 0.008110046, 0.005...</td>\n",
       "      <td>Title: Brad Caldwell on X: \"Mind blown today. ...</td>\n",
       "    </tr>\n",
       "    <tr>\n",
       "      <th>10</th>\n",
       "      <td>Watch \"Hanna Hajishirzi (AI2) - OLMo: Findings...</td>\n",
       "      <td>Mon, 29 Apr 2024 11:05:19 -0400</td>\n",
       "      <td>https://youtu.be/qFZbu2P1vZ8?si=MCmmlAa0hMxKXdqs</td>\n",
       "      <td>[About\\n\\nPress\\n\\nCopyright\\n\\nContact us\\n\\n...</td>\n",
       "      <td>About\\n\\nPress\\n\\nCopyright\\n\\nContact us\\n\\nC...</td>\n",
       "      <td>About\\n\\nPress\\n\\nCopyright\\n\\nContact us\\n\\nC...</td>\n",
       "      <td>[-0.057861328, 0.010902405, -0.03237915, 0.010...</td>\n",
       "      <td>Title: Watch \"Hanna Hajishirzi (AI2) - OLMo: F...</td>\n",
       "    </tr>\n",
       "    <tr>\n",
       "      <th>87</th>\n",
       "      <td>Manufacturing Bliss—Asterisk</td>\n",
       "      <td>Mon, 15 Apr 2024 15:22:45 -0400</td>\n",
       "      <td>https://asteriskmag.com/issues/06/manufacturin...</td>\n",
       "      <td>[Manufacturing Bliss\\n\\nNadia Asparouhova\\n\\nA...</td>\n",
       "      <td>Manufacturing Bliss\\n\\nNadia Asparouhova\\n\\nA ...</td>\n",
       "      <td>Manufacturing Bliss\\n\\nNadia Asparouhova\\n\\nA ...</td>\n",
       "      <td>[0.0022792816, 0.015007019, -0.054016113, -0.0...</td>\n",
       "      <td>Title: Manufacturing Bliss—Asterisk\\nLink: htt...</td>\n",
       "    </tr>\n",
       "  </tbody>\n",
       "</table>\n",
       "</div>"
      ],
      "text/plain": [
       "                                               subject  \\\n",
       "8         🔪 JAX - The Sharp Bits 🔪 — JAX documentation   \n",
       "307                         Metta Recordings - Tasshin   \n",
       "74   GitHub - yixiaoer/mistral-v0.2-jax: JAX implem...   \n",
       "218                                   The Annotated S4   \n",
       "77          [2306.01128] Learning Transformer Programs   \n",
       "13   Autodidax: JAX core from scratch — JAX documen...   \n",
       "363  An Introduction to the Jhanas - (Practising th...   \n",
       "219  Brad Caldwell on X: \"Mind blown today. Baars p...   \n",
       "10   Watch \"Hanna Hajishirzi (AI2) - OLMo: Findings...   \n",
       "87                        Manufacturing Bliss—Asterisk   \n",
       "\n",
       "                                date  \\\n",
       "8    Tue, 30 Apr 2024 01:38:59 -0400   \n",
       "307   Thu, 8 Feb 2024 12:23:14 -0800   \n",
       "74   Wed, 17 Apr 2024 21:00:11 -0400   \n",
       "218  Sun, 31 Mar 2024 23:49:06 -0700   \n",
       "77   Wed, 17 Apr 2024 14:30:37 -0400   \n",
       "13   Mon, 29 Apr 2024 00:13:54 -0400   \n",
       "363  Fri, 19 Jan 2024 02:47:26 +0530   \n",
       "219  Sun, 31 Mar 2024 23:31:12 -0700   \n",
       "10   Mon, 29 Apr 2024 11:05:19 -0400   \n",
       "87   Mon, 15 Apr 2024 15:22:45 -0400   \n",
       "\n",
       "                                                  link  \\\n",
       "8    https://jax.readthedocs.io/en/latest/notebooks...   \n",
       "307              https://tasshin.com/metta-recordings/   \n",
       "74        https://github.com/yixiaoer/mistral-v0.2-jax   \n",
       "218              https://srush.github.io/annotated-s4/   \n",
       "77                    https://arxiv.org/abs/2306.01128   \n",
       "13   https://jax.readthedocs.io/en/latest/autodidax...   \n",
       "363  https://www.youtube.com/watch?v=k6Y8BsfTiQY&ab...   \n",
       "219  https://twitter.com/Caldwbr/status/17745637880...   \n",
       "10    https://youtu.be/qFZbu2P1vZ8?si=MCmmlAa0hMxKXdqs   \n",
       "87   https://asteriskmag.com/issues/06/manufacturin...   \n",
       "\n",
       "                                                  docs  \\\n",
       "8    [🔪 JAX - The Sharp Bits 🔪#\\n\\nlevskaya@ mattjj...   \n",
       "307  [Metta Recordings\\n\\nI regularly guide heart-c...   \n",
       "74   [Mistral 7B v0.2 JAX\\n\\nThis project is the JA...   \n",
       "218  [The Annotated S4\\n\\nEfficiently Modeling Long...   \n",
       "77   [Computer Science > Machine Learning\\n\\n\\n  [S...   \n",
       "13   [Autodidax: JAX core from scratch#\\n\\nEver wan...   \n",
       "363  [About\\n\\nPress\\n\\nCopyright\\n\\nContact us\\n\\n...   \n",
       "219                                                 []   \n",
       "10   [About\\n\\nPress\\n\\nCopyright\\n\\nContact us\\n\\n...   \n",
       "87   [Manufacturing Bliss\\n\\nNadia Asparouhova\\n\\nA...   \n",
       "\n",
       "                                             smalldocs  \\\n",
       "8    🔪 JAX - The Sharp Bits 🔪#\\n\\nlevskaya@ mattjj@...   \n",
       "307  Metta Recordings\\n\\nI regularly guide heart-ce...   \n",
       "74   Mistral 7B v0.2 JAX\\n\\nThis project is the JAX...   \n",
       "218  The Annotated S4\\n\\nEfficiently Modeling Long\\...   \n",
       "77   Computer Science > Machine Learning\\n\\n\\n  [Su...   \n",
       "13   Autodidax: JAX core from scratch#\\n\\nEver want...   \n",
       "363  About\\n\\nPress\\n\\nCopyright\\n\\nContact us\\n\\nC...   \n",
       "219                                                      \n",
       "10   About\\n\\nPress\\n\\nCopyright\\n\\nContact us\\n\\nC...   \n",
       "87   Manufacturing Bliss\\n\\nNadia Asparouhova\\n\\nA ...   \n",
       "\n",
       "                                              smalldoc  \\\n",
       "8    🔪 JAX - The Sharp Bits 🔪#\\n\\nlevskaya@ mattjj@...   \n",
       "307  Metta Recordings\\n\\nI regularly guide heart-ce...   \n",
       "74   Mistral 7B v0.2 JAX\\n\\nThis project is the JAX...   \n",
       "218  The Annotated S4\\n\\nEfficiently Modeling Long\\...   \n",
       "77   Computer Science > Machine Learning\\n\\n\\n  [Su...   \n",
       "13   Autodidax: JAX core from scratch#\\n\\nEver want...   \n",
       "363  About\\n\\nPress\\n\\nCopyright\\n\\nContact us\\n\\nC...   \n",
       "219                                                      \n",
       "10   About\\n\\nPress\\n\\nCopyright\\n\\nContact us\\n\\nC...   \n",
       "87   Manufacturing Bliss\\n\\nNadia Asparouhova\\n\\nA ...   \n",
       "\n",
       "                                            embeddings  \\\n",
       "8    [-0.023498535, -0.012969971, -0.057769775, -0....   \n",
       "307  [-0.024658203, -0.025604248, -0.0031967163, -0...   \n",
       "74   [-0.085754395, -0.024902344, -0.06890869, 0.00...   \n",
       "218  [-0.013496399, -0.003660202, 0.02166748, -0.01...   \n",
       "77   [-0.038391113, 0.0036087036, 0.011978149, 0.04...   \n",
       "13   [-0.04043579, -0.00095176697, -0.059936523, -0...   \n",
       "363  [0.0037231445, -0.0008993149, -0.0063591003, -...   \n",
       "219  [0.015823364, -0.019500732, 0.008110046, 0.005...   \n",
       "10   [-0.057861328, 0.010902405, -0.03237915, 0.010...   \n",
       "87   [0.0022792816, 0.015007019, -0.054016113, -0.0...   \n",
       "\n",
       "                                                prompt  \n",
       "8    Title: 🔪 JAX - The Sharp Bits 🔪 — JAX document...  \n",
       "307  Title: Metta Recordings - Tasshin\\nLink: https...  \n",
       "74   Title: GitHub - yixiaoer/mistral-v0.2-jax: JAX...  \n",
       "218  Title: The Annotated S4\\nLink: https://srush.g...  \n",
       "77   Title: [2306.01128] Learning Transformer Progr...  \n",
       "13   Title: Autodidax: JAX core from scratch — JAX ...  \n",
       "363  Title: An Introduction to the Jhanas - (Practi...  \n",
       "219  Title: Brad Caldwell on X: \"Mind blown today. ...  \n",
       "10   Title: Watch \"Hanna Hajishirzi (AI2) - OLMo: F...  \n",
       "87   Title: Manufacturing Bliss—Asterisk\\nLink: htt...  "
      ]
     },
     "execution_count": 338,
     "metadata": {},
     "output_type": "execute_result"
    }
   ],
   "source": [
    "df.iloc[cosine_similarity(query_emb, embeddings)]"
   ]
  },
  {
   "cell_type": "code",
   "execution_count": null,
   "id": "ac16cba5-faba-466d-88d0-58600d1805bd",
   "metadata": {},
   "outputs": [],
   "source": []
  },
  {
   "cell_type": "code",
   "execution_count": null,
   "id": "0a5bcb31-99b8-44d5-9c96-3d84247e54a4",
   "metadata": {},
   "outputs": [],
   "source": []
  },
  {
   "cell_type": "code",
   "execution_count": null,
   "id": "61b04968-d5e1-45d4-ad5b-db0ca440369a",
   "metadata": {},
   "outputs": [],
   "source": []
  },
  {
   "cell_type": "code",
   "execution_count": null,
   "id": "994ac354-8b49-44b6-820f-dc9f5d27d7b7",
   "metadata": {},
   "outputs": [],
   "source": []
  },
  {
   "cell_type": "code",
   "execution_count": null,
   "id": "d2a54fc1-8ec5-4389-8766-c573bb2d1b38",
   "metadata": {},
   "outputs": [],
   "source": []
  },
  {
   "cell_type": "code",
   "execution_count": null,
   "id": "eb2346b1-753f-455b-bfbf-1be708e2ccc3",
   "metadata": {},
   "outputs": [],
   "source": []
  },
  {
   "cell_type": "code",
   "execution_count": null,
   "id": "e528d3ee-aaaa-431f-8ff2-748d34741ac8",
   "metadata": {},
   "outputs": [],
   "source": []
  },
  {
   "cell_type": "code",
   "execution_count": null,
   "id": "85eb52dd-ded6-4267-ab4f-583f56af1f12",
   "metadata": {},
   "outputs": [],
   "source": []
  },
  {
   "cell_type": "code",
   "execution_count": null,
   "id": "a81df5fd-bf69-4bc0-82de-95c4a91e0043",
   "metadata": {},
   "outputs": [],
   "source": []
  },
  {
   "cell_type": "code",
   "execution_count": null,
   "id": "cad87987-d607-41d8-946c-df68b8879c0d",
   "metadata": {},
   "outputs": [],
   "source": []
  },
  {
   "cell_type": "code",
   "execution_count": null,
   "id": "468a8b26-4136-4f49-a577-6fe5efe2cd0b",
   "metadata": {},
   "outputs": [],
   "source": []
  },
  {
   "cell_type": "code",
   "execution_count": null,
   "id": "87643763-6932-4948-8b57-ae265fa332d2",
   "metadata": {},
   "outputs": [],
   "source": []
  },
  {
   "cell_type": "code",
   "execution_count": null,
   "id": "cc83f919-3450-4066-b701-96b60e888403",
   "metadata": {},
   "outputs": [],
   "source": []
  }
 ],
 "metadata": {
  "kernelspec": {
   "display_name": "Python 3 (ipykernel)",
   "language": "python",
   "name": "python3"
  },
  "language_info": {
   "codemirror_mode": {
    "name": "ipython",
    "version": 3
   },
   "file_extension": ".py",
   "mimetype": "text/x-python",
   "name": "python",
   "nbconvert_exporter": "python",
   "pygments_lexer": "ipython3",
   "version": "3.12.2"
  }
 },
 "nbformat": 4,
 "nbformat_minor": 5
}
