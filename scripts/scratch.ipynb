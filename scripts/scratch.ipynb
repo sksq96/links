{
 "cells": [
  {
   "cell_type": "code",
   "execution_count": 4,
   "metadata": {},
   "outputs": [
    {
     "data": {
      "text/plain": [
       "b'\\x00\\xd1\\xa3t\\x9f\\xf4K\\x1bMyM`[R\\x03\\xaf\\xc1\\xe0\\xbfC\\xab\\xbc\\x0bu\\x88\\x10\\xb3\\xfe\\xe9g[\\xe4l7\\xe1\\xba3VvY\\x83z\\n\\x1e\\xe4\\x00\\xfc\\xb8\\xb7\\xf6\\xbfY\\xcdcMuQ^\\x9f\\xc8\\xeb\\xf0W|\\xc8\\xa3x\\xb5\\'\\x06\\x8ec\\x18\\xbd\\xf1lbD\\xf8.< \\'\\xcd\\xea\\xdc\\xe0[\\xd24\\xb3v\\xf9\\xf2\\x92A/!\\xe8U\\xcf*%^`\\xf0nr\\xa0O\\x8d\\xba\\xd5xe\\x0b\\xc9\\xdc\\x83\\x1e\\xf5K\\xd0\\xf9E\\x91d\\xc1riW\\xf8\\x8e.+\\xde\\xd8,\\x93\\x03\\x05\\xb7\\x81\\xb5\\xc8\\xfd\\xaa\\xd9:F\\xca\"\\x92\\xe7\\xa7s\\xf4\\xc2\\xd3\\xf3$.X\\xc3\\xeeA\\xea\\xa3\\r9\\xc4T\\x97`\\xfe\\xff\\xc2~\\xc1\\'\\xf7\\x0c\\xdeW\\xe7:\\x04\\x93v\\xbf^\\x81\\x02\\xf2S@\\x95*\\xb6\\xc8\\x16\\xf1\\xf9\\xaf\\x08=\\xf9g\\x1e\\xf9Q\\xa9^\\x17\\x11\\xd9\\x94\\xe2j\\x05\\x88\\x19\\xde\\xd3LIs\\xc4\\xb45GkU\\xe4Z\\xf0\\x01\\x9e\\x19\\xac:j\\x8eg\\x86\\xca\\xf9\\xca\\xd2\\xd5Z\\xce(\\x16\\xa4\\x04\\x14\\xb9G\\xba\\xbd\\xa7\\x99\\x1b!\\xea7\\xa2\\xad\\xed\\xf8\\x0e\\xd7\\xf5Hgq\\xe8\\xfa\\x8a\\xa18\\x81\\xb2\\xa8\\x9d\\xda{\\xf6i\\x9f\\x0bg\\x10\\x9aA\\xed\\xa3.\\xa2uq\\x91'"
      ]
     },
     "execution_count": 4,
     "metadata": {},
     "output_type": "execute_result"
    }
   ],
   "source": [
    "import base64\n",
    "\n",
    "base64.urlsafe_b64decode('ANGjdJ_0SxtNeU1gW1IDr8Hgv0OrvAt1iBCz_ulnW-RsN-G6M1Z2WYN6Ch7kAPy4t_a_Wc1jTXVRXp_I6_BXfMijeLUnBo5jGL3xbGJE-C48ICfN6tzgW9I0s3b58pJBLyHoVc8qJV5g8G5yoE-NutV4ZQvJ3IMe9UvQ-UWRZMFyaVf4ji4r3tgskwMFt4G1yP2q2TpGyiKS56dz9MLT8yQuWMPuQeqjDTnEVJdg_v_CfsEn9wzeV-c6BJN2v16BAvJTQJUqtsgW8fmvCD35Zx75UaleFxHZlOJqBYgZ3tNMSXPEtDVHa1XkWvABnhmsOmqOZ4bK-crS1VrOKBakBBS5R7q9p5kbIeo3oq3t-A7X9Uhncej6iqE4gbKondp79mmfC2cQmkHtoy6idXGR')"
   ]
  },
  {
   "cell_type": "code",
   "execution_count": 22,
   "metadata": {},
   "outputs": [],
   "source": [
    "message_body = \"\"\"<https://github.com/rasbt/LLMs-from-\n",
    "scratch/blob/main/ch07/04_preference-tuning-with-dpo/dpo-from-\n",
    "scratch.ipynb>\n",
    "\n",
    "Thanks,\n",
    "Shubham\n",
    "\"\"\""
   ]
  },
  {
   "cell_type": "code",
   "execution_count": 27,
   "metadata": {},
   "outputs": [
    {
     "name": "stdout",
     "output_type": "stream",
     "text": [
      "https://github.com/rasbt/LLMs-from-\n",
      "scratch/blob/main/ch07/04_preference-tuning-with-dpo/dpo-from-\n",
      "scratch.ipynb\n",
      "\n",
      "\n"
     ]
    }
   ],
   "source": [
    "link = message_body.strip().replace('Thanks,\\nShubham', '')\n",
    "link = link.replace(\"<\", \"\").replace(\">\", \"\")\n",
    "print(link)"
   ]
  },
  {
   "cell_type": "code",
   "execution_count": 30,
   "metadata": {},
   "outputs": [
    {
     "name": "stdout",
     "output_type": "stream",
     "text": [
      "https://github.com/rasbt/LLMs-from-scratch/blob/main/ch07/04_preference-tuning-with-dpo/dpo-from-scratch.ipynb\n"
     ]
    }
   ],
   "source": [
    "print(link.replace(\"\\n\", \"\"))"
   ]
  },
  {
   "cell_type": "code",
   "execution_count": null,
   "metadata": {},
   "outputs": [],
   "source": []
  },
  {
   "cell_type": "code",
   "execution_count": 24,
   "metadata": {},
   "outputs": [
    {
     "data": {
      "text/plain": [
       "'<https://github.com/rasbt/LLMs-from-'"
      ]
     },
     "execution_count": 24,
     "metadata": {},
     "output_type": "execute_result"
    }
   ],
   "source": [
    "link = link.split(\"\\n\")[0].strip()\n",
    "link"
   ]
  },
  {
   "cell_type": "code",
   "execution_count": 21,
   "metadata": {},
   "outputs": [
    {
     "data": {
      "text/plain": [
       "'https://github.com/rasbt/LLMs-from-scratch/blob/main/ch07/04_preference-tuning-with-dpo/dpo-from-scratch.ipynb'"
      ]
     },
     "execution_count": 21,
     "metadata": {},
     "output_type": "execute_result"
    }
   ],
   "source": []
  },
  {
   "cell_type": "code",
   "execution_count": null,
   "metadata": {},
   "outputs": [],
   "source": []
  }
 ],
 "metadata": {
  "kernelspec": {
   "display_name": "base",
   "language": "python",
   "name": "python3"
  },
  "language_info": {
   "codemirror_mode": {
    "name": "ipython",
    "version": 3
   },
   "file_extension": ".py",
   "mimetype": "text/x-python",
   "name": "python",
   "nbconvert_exporter": "python",
   "pygments_lexer": "ipython3",
   "version": "3.12.2"
  }
 },
 "nbformat": 4,
 "nbformat_minor": 2
}
